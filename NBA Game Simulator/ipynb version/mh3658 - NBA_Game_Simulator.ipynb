{
 "cells": [
  {
   "cell_type": "markdown",
   "metadata": {},
   "source": [
    "# NBA Game Simulation\n",
    "\n",
    "- Mengyu Huang (mh3685)\n",
    "- Xiaoling Ma (xm2185)\n",
    "\n",
    "## Abstract & how to run this file\n",
    "\n",
    "- Abstract\n",
    "\n",
    "    NBA games are very popular. Of course people always root for their home team and anxious for the result. For some people, the results of these games are extra important if they have engaged in betting. There has many studies focus on this field. As a matter of fact, there are some websites running simulation to provide suggestions for people to betting. We would like to build our basic assumption - the scoring process follows Poisson distribution, and try to do the simulation ourselves. \n",
    "    \n",
    "\n",
    "- How to run this file\n",
    "\n",
    "    running this file did not require additional inputs, or changing paths of this code. You can just run the whole jupyter notebook step by step. You can check the simulation result by looking at the output 'simulation_result.csv' file or use the *read_result()* function."
   ]
  },
  {
   "cell_type": "code",
   "execution_count": 2,
   "metadata": {
    "collapsed": false
   },
   "outputs": [],
   "source": [
    "import requests\n",
    "import bs4\n",
    "import math\n",
    "import time\n",
    "from bs4 import BeautifulSoup\n",
    "import os, pickle\n",
    "import pandas as pd\n",
    "import numpy as np\n",
    "path = os.getcwd()\n",
    "os.chdir(path)\n",
    "\n",
    "import csv\n"
   ]
  },
  {
   "cell_type": "markdown",
   "metadata": {},
   "source": [
    "## Using beautiful soup to scrape NBA schedule & game data\n",
    "\n",
    "- from website www.basketball-reference.com/\n",
    "- we get data from seasons 2014-2015, 2015-2016, 2016-2017 to do the simulation\n"
   ]
  },
  {
   "cell_type": "code",
   "execution_count": 3,
   "metadata": {
    "collapsed": true
   },
   "outputs": [],
   "source": [
    "url_start='http://www.basketball-reference.com/leagues/NBA_'\n",
    "url_end='.html'"
   ]
  },
  {
   "cell_type": "code",
   "execution_count": 4,
   "metadata": {
    "collapsed": false
   },
   "outputs": [],
   "source": [
    "# function for scraping the data from the url\n",
    "\n",
    "def get_table(year,month):\n",
    "    temp=[]\n",
    "    url_var=str(year)+'_games-'+month\n",
    "    url=url_start+url_var+url_end\n",
    "    r=requests.get(url)\n",
    "    soup=BeautifulSoup(r.content, 'lxml')\n",
    "    table = soup.find('table', attrs={'class':'suppress_glossary sortable stats_table'})\n",
    "    table_body = table.find('tbody')\n",
    "    rows = table_body.find_all('tr')\n",
    "    for row in rows:\n",
    "        cols = row.find_all('td')\n",
    "        cols = [ele.text.strip() for ele in cols]\n",
    "        temp2=[ele for ele in cols if cols[2] and ele]\n",
    "        if temp2:\n",
    "            temp.append([year,month]+temp2)\n",
    "    return temp"
   ]
  },
  {
   "cell_type": "code",
   "execution_count": 5,
   "metadata": {
    "collapsed": false,
    "scrolled": true
   },
   "outputs": [
    {
     "name": "stdout",
     "output_type": "stream",
     "text": [
      "2017may not included\n",
      "2017june not included\n"
     ]
    }
   ],
   "source": [
    "# reading the data from 2015-2017 to data\n",
    "# if no data for that specific period, output year-month not included\n",
    "\n",
    "seasons=[2015,2016,2017]\n",
    "months=['october', 'november', 'december', 'january', 'february',\n",
    "       'march', 'april', 'may','june']\n",
    "data=[]\n",
    "\n",
    "for i in range(len(seasons)):\n",
    "    for j in range(len(months)):\n",
    "        try:\n",
    "            temps=get_table(seasons[i], months[j])\n",
    "            #exclude empty months\n",
    "            if temps:\n",
    "                data=data+temps\n",
    "        except:\n",
    "            print(str(seasons[i])+''+months[j]+' not included')"
   ]
  },
  {
   "cell_type": "code",
   "execution_count": 6,
   "metadata": {
    "collapsed": true
   },
   "outputs": [],
   "source": [
    "# transfer & organize the scraped data into dataframe and drop useless columns\n",
    "\n",
    "game_data = pd.DataFrame(data, columns=['year', 'month','time', 'away_tm','away_score','home_tm','home_score','del1','del2','del3'])\n",
    "game_data = game_data.drop('time',axis=1)\n",
    "game_data = game_data.drop('del1',axis=1)\n",
    "game_data = game_data.drop('del2',axis=1)\n",
    "game_data = game_data.drop('del3',axis=1)"
   ]
  },
  {
   "cell_type": "markdown",
   "metadata": {},
   "source": [
    "## Basic Calculations\n",
    "\n",
    "- Please first refer to the *Underlying Model* part in report, to help understand the calculations\n",
    "- calculate the coefficients for our Poisson model\n",
    "- get the NBA team list, and construct the battle list (every team play with every other teams). Save the battle list and related data into new dataframe called *games*"
   ]
  },
  {
   "cell_type": "code",
   "execution_count": 7,
   "metadata": {
    "collapsed": false
   },
   "outputs": [
    {
     "data": {
      "text/html": [
       "<div>\n",
       "<table border=\"1\" class=\"dataframe\">\n",
       "  <thead>\n",
       "    <tr style=\"text-align: right;\">\n",
       "      <th></th>\n",
       "      <th>year</th>\n",
       "      <th>month</th>\n",
       "      <th>away_tm</th>\n",
       "      <th>away_score</th>\n",
       "      <th>home_tm</th>\n",
       "      <th>home_score</th>\n",
       "    </tr>\n",
       "  </thead>\n",
       "  <tbody>\n",
       "    <tr>\n",
       "      <th>0</th>\n",
       "      <td>2015</td>\n",
       "      <td>october</td>\n",
       "      <td>Houston Rockets</td>\n",
       "      <td>108</td>\n",
       "      <td>Los Angeles Lakers</td>\n",
       "      <td>90</td>\n",
       "    </tr>\n",
       "    <tr>\n",
       "      <th>1</th>\n",
       "      <td>2015</td>\n",
       "      <td>october</td>\n",
       "      <td>Orlando Magic</td>\n",
       "      <td>84</td>\n",
       "      <td>New Orleans Pelicans</td>\n",
       "      <td>101</td>\n",
       "    </tr>\n",
       "    <tr>\n",
       "      <th>2</th>\n",
       "      <td>2015</td>\n",
       "      <td>october</td>\n",
       "      <td>Dallas Mavericks</td>\n",
       "      <td>100</td>\n",
       "      <td>San Antonio Spurs</td>\n",
       "      <td>101</td>\n",
       "    </tr>\n",
       "    <tr>\n",
       "      <th>3</th>\n",
       "      <td>2015</td>\n",
       "      <td>october</td>\n",
       "      <td>Brooklyn Nets</td>\n",
       "      <td>105</td>\n",
       "      <td>Boston Celtics</td>\n",
       "      <td>121</td>\n",
       "    </tr>\n",
       "    <tr>\n",
       "      <th>4</th>\n",
       "      <td>2015</td>\n",
       "      <td>october</td>\n",
       "      <td>Milwaukee Bucks</td>\n",
       "      <td>106</td>\n",
       "      <td>Charlotte Hornets</td>\n",
       "      <td>108</td>\n",
       "    </tr>\n",
       "  </tbody>\n",
       "</table>\n",
       "</div>"
      ],
      "text/plain": [
       "   year    month           away_tm away_score               home_tm home_score\n",
       "0  2015  october   Houston Rockets        108    Los Angeles Lakers         90\n",
       "1  2015  october     Orlando Magic         84  New Orleans Pelicans        101\n",
       "2  2015  october  Dallas Mavericks        100     San Antonio Spurs        101\n",
       "3  2015  october     Brooklyn Nets        105        Boston Celtics        121\n",
       "4  2015  october   Milwaukee Bucks        106     Charlotte Hornets        108"
      ]
     },
     "execution_count": 7,
     "metadata": {},
     "output_type": "execute_result"
    }
   ],
   "source": [
    "# check the data we have scraped\n",
    "\n",
    "game_data.head()"
   ]
  },
  {
   "cell_type": "code",
   "execution_count": 8,
   "metadata": {
    "collapsed": false
   },
   "outputs": [],
   "source": [
    "# get the difference & sum of two teams' scores of each game. \n",
    "# This is useful for further calculation\n",
    "\n",
    "game_data['diff']=game_data['away_score'].astype(float)-game_data['home_score'].astype(float)\n",
    "game_data['sum']=game_data['away_score'].astype(float)+game_data['home_score'].astype(float)\n",
    "\n",
    "# get the list of NBA teams\n",
    "\n",
    "teams=game_data['home_tm']\n",
    "teams=teams.drop_duplicates()\n",
    "teams=teams.values.tolist()\n",
    "\n",
    "teams_df=pd.DataFrame(data={'name':teams})\n",
    "\n",
    "# construct new dataframe games to save our simulation-related data & results\n",
    "# create the battle form (get home team & away team)\n",
    "temp = []\n",
    "temp2 = []\n",
    "for item in teams:\n",
    "    for item2 in teams:\n",
    "        if item != item2:\n",
    "            temp.append(item)\n",
    "            temp2.append(item2)\n",
    "games = pd.DataFrame(data={'a_tm':temp, 'h_tm':temp2})\n",
    "\n",
    "temp3= []\n",
    "games['Battle'] = games['a_tm']+' vs '+games['h_tm']\n",
    "games = games.set_index('Battle')\n",
    "games.index.name=None"
   ]
  },
  {
   "cell_type": "code",
   "execution_count": 9,
   "metadata": {
    "collapsed": false
   },
   "outputs": [
    {
     "data": {
      "text/html": [
       "<div>\n",
       "<table border=\"1\" class=\"dataframe\">\n",
       "  <thead>\n",
       "    <tr style=\"text-align: right;\">\n",
       "      <th></th>\n",
       "      <th>year</th>\n",
       "      <th>month</th>\n",
       "      <th>away_tm</th>\n",
       "      <th>away_score</th>\n",
       "      <th>home_tm</th>\n",
       "      <th>home_score</th>\n",
       "      <th>diff</th>\n",
       "      <th>sum</th>\n",
       "    </tr>\n",
       "  </thead>\n",
       "  <tbody>\n",
       "    <tr>\n",
       "      <th>0</th>\n",
       "      <td>2015</td>\n",
       "      <td>october</td>\n",
       "      <td>Houston Rockets</td>\n",
       "      <td>108</td>\n",
       "      <td>Los Angeles Lakers</td>\n",
       "      <td>90</td>\n",
       "      <td>18.0</td>\n",
       "      <td>198.0</td>\n",
       "    </tr>\n",
       "    <tr>\n",
       "      <th>1</th>\n",
       "      <td>2015</td>\n",
       "      <td>october</td>\n",
       "      <td>Orlando Magic</td>\n",
       "      <td>84</td>\n",
       "      <td>New Orleans Pelicans</td>\n",
       "      <td>101</td>\n",
       "      <td>-17.0</td>\n",
       "      <td>185.0</td>\n",
       "    </tr>\n",
       "    <tr>\n",
       "      <th>2</th>\n",
       "      <td>2015</td>\n",
       "      <td>october</td>\n",
       "      <td>Dallas Mavericks</td>\n",
       "      <td>100</td>\n",
       "      <td>San Antonio Spurs</td>\n",
       "      <td>101</td>\n",
       "      <td>-1.0</td>\n",
       "      <td>201.0</td>\n",
       "    </tr>\n",
       "    <tr>\n",
       "      <th>3</th>\n",
       "      <td>2015</td>\n",
       "      <td>october</td>\n",
       "      <td>Brooklyn Nets</td>\n",
       "      <td>105</td>\n",
       "      <td>Boston Celtics</td>\n",
       "      <td>121</td>\n",
       "      <td>-16.0</td>\n",
       "      <td>226.0</td>\n",
       "    </tr>\n",
       "    <tr>\n",
       "      <th>4</th>\n",
       "      <td>2015</td>\n",
       "      <td>october</td>\n",
       "      <td>Milwaukee Bucks</td>\n",
       "      <td>106</td>\n",
       "      <td>Charlotte Hornets</td>\n",
       "      <td>108</td>\n",
       "      <td>-2.0</td>\n",
       "      <td>214.0</td>\n",
       "    </tr>\n",
       "  </tbody>\n",
       "</table>\n",
       "</div>"
      ],
      "text/plain": [
       "   year    month           away_tm away_score               home_tm  \\\n",
       "0  2015  october   Houston Rockets        108    Los Angeles Lakers   \n",
       "1  2015  october     Orlando Magic         84  New Orleans Pelicans   \n",
       "2  2015  october  Dallas Mavericks        100     San Antonio Spurs   \n",
       "3  2015  october     Brooklyn Nets        105        Boston Celtics   \n",
       "4  2015  october   Milwaukee Bucks        106     Charlotte Hornets   \n",
       "\n",
       "  home_score  diff    sum  \n",
       "0         90  18.0  198.0  \n",
       "1        101 -17.0  185.0  \n",
       "2        101  -1.0  201.0  \n",
       "3        121 -16.0  226.0  \n",
       "4        108  -2.0  214.0  "
      ]
     },
     "execution_count": 9,
     "metadata": {},
     "output_type": "execute_result"
    }
   ],
   "source": [
    "game_data.head()"
   ]
  },
  {
   "cell_type": "code",
   "execution_count": 9,
   "metadata": {
    "collapsed": false
   },
   "outputs": [
    {
     "data": {
      "text/plain": [
       "['Los Angeles Lakers',\n",
       " 'New Orleans Pelicans',\n",
       " 'San Antonio Spurs',\n",
       " 'Boston Celtics',\n",
       " 'Charlotte Hornets',\n",
       " 'Denver Nuggets',\n",
       " 'Indiana Pacers',\n",
       " 'Memphis Grizzlies',\n",
       " 'Miami Heat',\n",
       " 'New York Knicks',\n",
       " 'Phoenix Suns',\n",
       " 'Portland Trail Blazers',\n",
       " 'Sacramento Kings',\n",
       " 'Toronto Raptors',\n",
       " 'Utah Jazz',\n",
       " 'Cleveland Cavaliers',\n",
       " 'Dallas Mavericks',\n",
       " 'Los Angeles Clippers',\n",
       " 'Minnesota Timberwolves',\n",
       " 'Orlando Magic',\n",
       " 'Chicago Bulls',\n",
       " 'Milwaukee Bucks',\n",
       " 'Atlanta Hawks',\n",
       " 'Detroit Pistons',\n",
       " 'Golden State Warriors',\n",
       " 'Houston Rockets',\n",
       " 'Oklahoma City Thunder',\n",
       " 'Philadelphia 76ers',\n",
       " 'Washington Wizards',\n",
       " 'Brooklyn Nets']"
      ]
     },
     "execution_count": 9,
     "metadata": {},
     "output_type": "execute_result"
    }
   ],
   "source": [
    "teams"
   ]
  },
  {
   "cell_type": "code",
   "execution_count": 10,
   "metadata": {
    "collapsed": false
   },
   "outputs": [
    {
     "data": {
      "text/html": [
       "<div>\n",
       "<table border=\"1\" class=\"dataframe\">\n",
       "  <thead>\n",
       "    <tr style=\"text-align: right;\">\n",
       "      <th></th>\n",
       "      <th>a_tm</th>\n",
       "      <th>h_tm</th>\n",
       "    </tr>\n",
       "  </thead>\n",
       "  <tbody>\n",
       "    <tr>\n",
       "      <th>Los Angeles Lakers vs New Orleans Pelicans</th>\n",
       "      <td>Los Angeles Lakers</td>\n",
       "      <td>New Orleans Pelicans</td>\n",
       "    </tr>\n",
       "    <tr>\n",
       "      <th>Los Angeles Lakers vs San Antonio Spurs</th>\n",
       "      <td>Los Angeles Lakers</td>\n",
       "      <td>San Antonio Spurs</td>\n",
       "    </tr>\n",
       "    <tr>\n",
       "      <th>Los Angeles Lakers vs Boston Celtics</th>\n",
       "      <td>Los Angeles Lakers</td>\n",
       "      <td>Boston Celtics</td>\n",
       "    </tr>\n",
       "    <tr>\n",
       "      <th>Los Angeles Lakers vs Charlotte Hornets</th>\n",
       "      <td>Los Angeles Lakers</td>\n",
       "      <td>Charlotte Hornets</td>\n",
       "    </tr>\n",
       "    <tr>\n",
       "      <th>Los Angeles Lakers vs Denver Nuggets</th>\n",
       "      <td>Los Angeles Lakers</td>\n",
       "      <td>Denver Nuggets</td>\n",
       "    </tr>\n",
       "  </tbody>\n",
       "</table>\n",
       "</div>"
      ],
      "text/plain": [
       "                                                          a_tm  \\\n",
       "Los Angeles Lakers vs New Orleans Pelicans  Los Angeles Lakers   \n",
       "Los Angeles Lakers vs San Antonio Spurs     Los Angeles Lakers   \n",
       "Los Angeles Lakers vs Boston Celtics        Los Angeles Lakers   \n",
       "Los Angeles Lakers vs Charlotte Hornets     Los Angeles Lakers   \n",
       "Los Angeles Lakers vs Denver Nuggets        Los Angeles Lakers   \n",
       "\n",
       "                                                            h_tm  \n",
       "Los Angeles Lakers vs New Orleans Pelicans  New Orleans Pelicans  \n",
       "Los Angeles Lakers vs San Antonio Spurs        San Antonio Spurs  \n",
       "Los Angeles Lakers vs Boston Celtics              Boston Celtics  \n",
       "Los Angeles Lakers vs Charlotte Hornets        Charlotte Hornets  \n",
       "Los Angeles Lakers vs Denver Nuggets              Denver Nuggets  "
      ]
     },
     "execution_count": 10,
     "metadata": {},
     "output_type": "execute_result"
    }
   ],
   "source": [
    "games.head()"
   ]
  },
  {
   "cell_type": "markdown",
   "metadata": {},
   "source": [
    "## Simulation Calculations\n",
    "- construct class Team to calculate mandatory parameters for each team\n",
    "- construct class Game to run simulation for the game between input teams\n"
   ]
  },
  {
   "cell_type": "markdown",
   "metadata": {},
   "source": [
    "The class Team is written to calculate some necessary parameters for the simulation.\n",
    "\n",
    "- The *\\_init\\_* function is to set the data needed for calculation for team=name.\n",
    "\n",
    "- The *difscore()* function is to calculate the average (scored-conceded) per game for team = name.\n",
    "\n",
    "- The *sscore()* function is to calculate the average sum of scores scored and conceded by team = name.\n",
    "\n",
    "- Later, put all the teams' *difscore* into vector *dlt_G* (corresponding to the $\\Delta G$ in the model)\n",
    "\n",
    "- Put all the teams' *sscore* into vector  *sum_G* (corresponding to the $\\sum G$ in the model)\n"
   ]
  },
  {
   "cell_type": "code",
   "execution_count": 11,
   "metadata": {
    "collapsed": true
   },
   "outputs": [],
   "source": [
    "# Create class team for calculating the scores & average scores\n",
    "\n",
    "class Team:\n",
    "    def __init__(self, name, data):\n",
    "        self.name=name\n",
    "        self.data=data\n",
    "        \n",
    "        #the lines that include team=name as the away/home team\n",
    "        self.a_games=data.loc[data['away_tm']==name]\n",
    "        self.h_games=data.loc[data['home_tm']==name]\n",
    "        \n",
    "        #average sum of scores for all games\n",
    "        self.xi=data['sum'].mean()\n",
    "        self.sumvar=data['sum'].var()\n",
    "        self.diffvar=data['diff'].var()\n",
    "        \n",
    "        \n",
    "    #the average sum of scores scored and conceded by team=name\n",
    "    def sscore(self):\n",
    "        tp1=self.a_games['sum'].values.tolist()\n",
    "        tp1.extend(self.h_games['sum'].values.tolist())\n",
    "        tp2=np.mean(tp1)\n",
    "        b_n=1/(1+3/(len(tp1)*self.sumvar))\n",
    "        tp3=self.xi+b_n*(tp2-self.xi)\n",
    "        return tp3\n",
    "    \n",
    "    \n",
    "    #the average (scored-conceded) per game for team=name\n",
    "    def difscore(self):\n",
    "        tp1=self.a_games['diff'].values.tolist()\n",
    "        tp1.extend([-x for x in self.h_games['diff'].values.tolist()])\n",
    "        tp2=np.mean(tp1)\n",
    "        a_n=1/(1+3/(len(tp1)*self.diffvar))\n",
    "        tp3=a_n*tp2\n",
    "        return tp3"
   ]
  },
  {
   "cell_type": "code",
   "execution_count": 12,
   "metadata": {
    "collapsed": false
   },
   "outputs": [],
   "source": [
    "# put the difscore of all teams into vector 'dlt_G'\n",
    "# the \\Delta G_i for each team\n",
    "\n",
    "diff_li=[]\n",
    "for row in teams_df['name']:\n",
    "    temp1=Team(row,game_data)\n",
    "    diff_li.append(temp1.difscore())\n",
    "teams_df['dlt_G']=diff_li\n",
    "\n",
    "# put the sscore of all teams into vector 'sum_G'\n",
    "#the \\Sum G_i for each team\n",
    "\n",
    "sum_li=[]\n",
    "for row in teams_df['name']:\n",
    "    temp1=Team(row,game_data)\n",
    "    sum_li.append(temp1.sscore())\n",
    "teams_df['sum_G']=sum_li\n",
    "teams_df = teams_df.set_index('name')\n",
    "teams_df.index.name=None"
   ]
  },
  {
   "cell_type": "code",
   "execution_count": 13,
   "metadata": {
    "collapsed": true
   },
   "outputs": [],
   "source": [
    "# coeffcients\n",
    "c_home=-game_data['diff'].mean()\n",
    "xi_2=game_data['sum'].mean()\n",
    "\n",
    "# simulation paths\n",
    "N=1000"
   ]
  },
  {
   "cell_type": "code",
   "execution_count": 14,
   "metadata": {
    "collapsed": false
   },
   "outputs": [
    {
     "data": {
      "text/html": [
       "<div>\n",
       "<table border=\"1\" class=\"dataframe\">\n",
       "  <thead>\n",
       "    <tr style=\"text-align: right;\">\n",
       "      <th></th>\n",
       "      <th>dlt_G</th>\n",
       "      <th>sum_G</th>\n",
       "    </tr>\n",
       "  </thead>\n",
       "  <tbody>\n",
       "    <tr>\n",
       "      <th>Los Angeles Lakers</th>\n",
       "      <td>-7.896163</td>\n",
       "      <td>208.061894</td>\n",
       "    </tr>\n",
       "    <tr>\n",
       "      <th>New Orleans Pelicans</th>\n",
       "      <td>-1.638103</td>\n",
       "      <td>205.890224</td>\n",
       "    </tr>\n",
       "    <tr>\n",
       "      <th>San Antonio Spurs</th>\n",
       "      <td>7.980194</td>\n",
       "      <td>200.112120</td>\n",
       "    </tr>\n",
       "    <tr>\n",
       "      <th>Boston Celtics</th>\n",
       "      <td>1.505832</td>\n",
       "      <td>207.450526</td>\n",
       "    </tr>\n",
       "    <tr>\n",
       "      <th>Charlotte Hornets</th>\n",
       "      <td>-0.155990</td>\n",
       "      <td>201.468115</td>\n",
       "    </tr>\n",
       "  </tbody>\n",
       "</table>\n",
       "</div>"
      ],
      "text/plain": [
       "                         dlt_G       sum_G\n",
       "Los Angeles Lakers   -7.896163  208.061894\n",
       "New Orleans Pelicans -1.638103  205.890224\n",
       "San Antonio Spurs     7.980194  200.112120\n",
       "Boston Celtics        1.505832  207.450526\n",
       "Charlotte Hornets    -0.155990  201.468115"
      ]
     },
     "execution_count": 14,
     "metadata": {},
     "output_type": "execute_result"
    }
   ],
   "source": [
    "teams_df.head()"
   ]
  },
  {
   "cell_type": "markdown",
   "metadata": {},
   "source": [
    "The Game class is written for running simulations\n",
    "    \n",
    "- The *\\_init\\_()* function first set up the predict teams (away team tm1 and home team tm2) and simulation path # N (we are using 1000 here). Also calculate the necessary parameter for simulation, 'esti_gij' and 'mean_sgoals', correspond to $\\widetilde g_{i,j}$ and $\\bar {sgoals}_{i,j}$ in our model accordingly.\n",
    "\n",
    "- The *sim_result()* function is to run the game simulation between tm1 and tm2. It simulate the Possion process of the total score of the match(${sgoals}_{i,j}$ in our model part), where parameter $\\lambda = \\bar {sgoals}_{i,j}$. The detailed simulation method is described at the model part."
   ]
  },
  {
   "cell_type": "code",
   "execution_count": 15,
   "metadata": {
    "collapsed": true
   },
   "outputs": [],
   "source": [
    "#game related functions\n",
    "#tm1 is away team, tm2 is home team\n",
    "\n",
    "class Game:\n",
    "    def __init__(self, tm1, tm2):\n",
    "        self.tm1=tm1\n",
    "        self.tm2=tm2\n",
    "        \n",
    "        #value of esti_gij (considering home advantage)\n",
    "        #attention i is away team here\n",
    "        self.esti_gij=teams_df.ix[self.tm1,'dlt_G']-teams_df.ix[self.tm2,'dlt_G']-c_home\n",
    "\n",
    "        #mean of sum of goals g_i+g_j\n",
    "        self.mean_sgoals=teams_df.ix[self.tm1,'sum_G']+teams_df.ix[self.tm2,'sum_G']-xi_2\n",
    "        \n",
    "        self.times=N\n",
    "        \n",
    "    #monte carlo simulation for poisson distribution \n",
    "    # (the Poisson simulation method's learned from the simulation course)\n",
    "    # as the scoring process for each team follows a poisson distribution,\n",
    "    # the sum of the two teams' scores during a game also follows a poisson distribution.\n",
    "    # (two poisson distributions adding up also follow poisson distribution )\n",
    "    # So here, we run poisson simulation for the sum of the two teams' scores first (lambda = a_mean+h_mean), and then assign scores to each team.\n",
    "    \n",
    "    def sim_result(self):\n",
    "        temp=0\n",
    "        game_esti_gij=games['esti_gij'].loc[self.tm1+' vs '+self.tm2]\n",
    "        game_mean_sgoals=games['mean_sgoals'].loc[self.tm1+' vs '+self.tm2]\n",
    "        esti_gi=(game_mean_sgoals+game_esti_gij)/2\n",
    "        esti_gj=(game_mean_sgoals-game_esti_gij)/2\n",
    "        for i in range(self.times):\n",
    "            t=0 \n",
    "            I=0\n",
    "            while t<=1:\n",
    "                # lambda of the poisson distribution is (a_mean+h_mean)\n",
    "                t=t-1/game_mean_sgoals*math.log(np.random.random_sample())\n",
    "                I=I+1\n",
    "            temp=temp+I\n",
    "            \n",
    "        g_i=round(temp/self.times*esti_gi/(esti_gi+esti_gj))\n",
    "        g_j=round(temp/self.times*esti_gj/(esti_gi+esti_gj))\n",
    "        return g_i, g_j"
   ]
  },
  {
   "cell_type": "code",
   "execution_count": 16,
   "metadata": {
    "collapsed": false
   },
   "outputs": [],
   "source": [
    "#Get for each game the g_i+g_j and the q_ij\n",
    "\n",
    "temp1=[]\n",
    "temp2=[]\n",
    "for index, row in games.iterrows():\n",
    "    one_game=Game(row['a_tm'],row['h_tm'])\n",
    "    temp1.append(one_game.mean_sgoals)\n",
    "    temp2.append(one_game.esti_gij)\n",
    "games['mean_sgoals']=temp1\n",
    "games['esti_gij']=temp2"
   ]
  },
  {
   "cell_type": "markdown",
   "metadata": {},
   "source": [
    "## Simulation\n",
    "\n",
    "Run simulation for all the games in the battle list. Write the result into file 'simulation_result.csv'"
   ]
  },
  {
   "cell_type": "code",
   "execution_count": 18,
   "metadata": {
    "collapsed": true
   },
   "outputs": [],
   "source": [
    "#the time needed is about 200-300 sec\n",
    "#Get for each game the simulation result\n",
    "\n",
    "def all_sim():\n",
    "    t1=time.time()\n",
    "    tp_1=[]\n",
    "    tp_2=[]\n",
    "    for index, row in games.iterrows():\n",
    "        one_game=Game(row['a_tm'],row['h_tm'])\n",
    "        rlt1, rlt2=one_game.sim_result()\n",
    "        tp_1.append(rlt1)\n",
    "        tp_2.append(rlt2)\n",
    "    games['sim_ascore']=tp_1\n",
    "    games['sim_hscore']=tp_2\n",
    "    t2=time.time()-t1\n",
    "    print('Time used for this simulation is '+str(t2)+' seconds')\n",
    "    return "
   ]
  },
  {
   "cell_type": "code",
   "execution_count": 19,
   "metadata": {
    "collapsed": false
   },
   "outputs": [
    {
     "name": "stdout",
     "output_type": "stream",
     "text": [
      "Time used for this simulation is 246.13110280036926 seconds\n"
     ]
    }
   ],
   "source": [
    "all_sim()"
   ]
  },
  {
   "cell_type": "code",
   "execution_count": 20,
   "metadata": {
    "collapsed": true
   },
   "outputs": [],
   "source": [
    "games.to_csv(\"simulation_result.csv\")"
   ]
  },
  {
   "cell_type": "code",
   "execution_count": 21,
   "metadata": {
    "collapsed": false
   },
   "outputs": [
    {
     "data": {
      "text/html": [
       "<div>\n",
       "<table border=\"1\" class=\"dataframe\">\n",
       "  <thead>\n",
       "    <tr style=\"text-align: right;\">\n",
       "      <th></th>\n",
       "      <th>a_tm</th>\n",
       "      <th>h_tm</th>\n",
       "      <th>mean_sgoals</th>\n",
       "      <th>esti_gij</th>\n",
       "      <th>sim_ascore</th>\n",
       "      <th>sim_hscore</th>\n",
       "    </tr>\n",
       "  </thead>\n",
       "  <tbody>\n",
       "    <tr>\n",
       "      <th>Los Angeles Lakers vs New Orleans Pelicans</th>\n",
       "      <td>Los Angeles Lakers</td>\n",
       "      <td>New Orleans Pelicans</td>\n",
       "      <td>208.720055</td>\n",
       "      <td>-9.085918</td>\n",
       "      <td>101.0</td>\n",
       "      <td>110.0</td>\n",
       "    </tr>\n",
       "    <tr>\n",
       "      <th>Los Angeles Lakers vs San Antonio Spurs</th>\n",
       "      <td>Los Angeles Lakers</td>\n",
       "      <td>San Antonio Spurs</td>\n",
       "      <td>202.941951</td>\n",
       "      <td>-18.704215</td>\n",
       "      <td>93.0</td>\n",
       "      <td>112.0</td>\n",
       "    </tr>\n",
       "    <tr>\n",
       "      <th>Los Angeles Lakers vs Boston Celtics</th>\n",
       "      <td>Los Angeles Lakers</td>\n",
       "      <td>Boston Celtics</td>\n",
       "      <td>210.280358</td>\n",
       "      <td>-12.229853</td>\n",
       "      <td>100.0</td>\n",
       "      <td>112.0</td>\n",
       "    </tr>\n",
       "    <tr>\n",
       "      <th>Los Angeles Lakers vs Charlotte Hornets</th>\n",
       "      <td>Los Angeles Lakers</td>\n",
       "      <td>Charlotte Hornets</td>\n",
       "      <td>204.297946</td>\n",
       "      <td>-10.568032</td>\n",
       "      <td>98.0</td>\n",
       "      <td>108.0</td>\n",
       "    </tr>\n",
       "    <tr>\n",
       "      <th>Los Angeles Lakers vs Denver Nuggets</th>\n",
       "      <td>Los Angeles Lakers</td>\n",
       "      <td>Denver Nuggets</td>\n",
       "      <td>214.895732</td>\n",
       "      <td>-8.484503</td>\n",
       "      <td>103.0</td>\n",
       "      <td>112.0</td>\n",
       "    </tr>\n",
       "  </tbody>\n",
       "</table>\n",
       "</div>"
      ],
      "text/plain": [
       "                                                          a_tm  \\\n",
       "Los Angeles Lakers vs New Orleans Pelicans  Los Angeles Lakers   \n",
       "Los Angeles Lakers vs San Antonio Spurs     Los Angeles Lakers   \n",
       "Los Angeles Lakers vs Boston Celtics        Los Angeles Lakers   \n",
       "Los Angeles Lakers vs Charlotte Hornets     Los Angeles Lakers   \n",
       "Los Angeles Lakers vs Denver Nuggets        Los Angeles Lakers   \n",
       "\n",
       "                                                            h_tm  mean_sgoals  \\\n",
       "Los Angeles Lakers vs New Orleans Pelicans  New Orleans Pelicans   208.720055   \n",
       "Los Angeles Lakers vs San Antonio Spurs        San Antonio Spurs   202.941951   \n",
       "Los Angeles Lakers vs Boston Celtics              Boston Celtics   210.280358   \n",
       "Los Angeles Lakers vs Charlotte Hornets        Charlotte Hornets   204.297946   \n",
       "Los Angeles Lakers vs Denver Nuggets              Denver Nuggets   214.895732   \n",
       "\n",
       "                                             esti_gij  sim_ascore  sim_hscore  \n",
       "Los Angeles Lakers vs New Orleans Pelicans  -9.085918       101.0       110.0  \n",
       "Los Angeles Lakers vs San Antonio Spurs    -18.704215        93.0       112.0  \n",
       "Los Angeles Lakers vs Boston Celtics       -12.229853       100.0       112.0  \n",
       "Los Angeles Lakers vs Charlotte Hornets    -10.568032        98.0       108.0  \n",
       "Los Angeles Lakers vs Denver Nuggets        -8.484503       103.0       112.0  "
      ]
     },
     "execution_count": 21,
     "metadata": {},
     "output_type": "execute_result"
    }
   ],
   "source": [
    "games.head()"
   ]
  },
  {
   "cell_type": "markdown",
   "metadata": {},
   "source": [
    "## Model Accuracy Testing\n",
    "\n",
    "- We calculate the difference of our simulated two teams' score (sim_mar) and the difference of the real games' score difference of the real game data (real_mar). We tested two parts:\n",
    "\n",
    "    - Check if sim_mar * real_mar is positive. If positive, it suggests we've picked the same winner as the real game. (Correct Picks)\n",
    "    - When people betting on NBA games, they are usually betting on the score difference of the two teams. We check the difference between sim_mar and real_mar is within 5 points. If yes, we think this is a good estimation. (Final Margin within 5 Pts)\n"
   ]
  },
  {
   "cell_type": "code",
   "execution_count": 22,
   "metadata": {
    "collapsed": false
   },
   "outputs": [
    {
     "name": "stdout",
     "output_type": "stream",
     "text": [
      "We pick the right winner for 64.94086727989487 percent of time, predict the right margin for 36.530880420499344 percent of time\n"
     ]
    }
   ],
   "source": [
    "#test the model\n",
    "\n",
    "\n",
    "def test():\n",
    "    temp1=0\n",
    "    temp2=0\n",
    "    for index, row in game_data.iterrows():\n",
    "        real_mar=float(row['away_score'])-float(row['home_score'])\n",
    "        sim_mar=games['sim_ascore'].loc[row['away_tm']+' vs '+row['home_tm']]-games['sim_hscore'].loc[row['away_tm']+' vs '+row['home_tm']]\n",
    "        temp1=temp1+int(real_mar*sim_mar>0)\n",
    "        temp2=temp2+int(math.fabs(real_mar-sim_mar)<=5)\n",
    "    pick=temp1/len(game_data)*100\n",
    "    mar=temp2/len(game_data)*100\n",
    "    return pick,mar\n",
    "\n",
    "pick_accu, mar_accu=test()\n",
    "print('We pick the right winner for %s percent of time, predict the right margin for %s percent of time'\n",
    "      %(pick_accu, mar_accu))"
   ]
  },
  {
   "cell_type": "markdown",
   "metadata": {},
   "source": [
    "The accuracy rate of nbagamesim.com is as follows:\n",
    "- Correct Picks  (64%)\n",
    "- Final Margin within 5 Pts  (36%)\n",
    "\n",
    "Thus we have a better accuracy then them in predicting the scores.\n",
    "This result is actually similiar to/ even better than the simulation accuracy of most of the simulation websites. Cheers!"
   ]
  },
  {
   "cell_type": "markdown",
   "metadata": {},
   "source": [
    "## Simulate the game you want!\n",
    "\n",
    "Run the following function. Input the away team name and home team name, and get the simulation result."
   ]
  },
  {
   "cell_type": "code",
   "execution_count": 23,
   "metadata": {
    "collapsed": false
   },
   "outputs": [
    {
     "name": "stdout",
     "output_type": "stream",
     "text": [
      "Hi! We want to help you predict a game!\n",
      "Please input the home team: nets\n",
      "Please input the away team: lakers\n",
      "\n",
      "Simulation Start!\n",
      "\n",
      "We predict the winner team to be: Brooklyn Nets\n",
      "And the score detail will approximately be (Home vs. Away):\n",
      " 108.0 : 103.0\n"
     ]
    }
   ],
   "source": [
    "def read_result():\n",
    "    test = [0,0]\n",
    "    print('Hi! We want to help you predict a game!')\n",
    "    while not any(test):\n",
    "        home = input('Please input the home team: ')\n",
    "        away = input('Please input the away team: ')\n",
    "        away_text = away.title()\n",
    "        home_text = home.title()\n",
    "        test = games['a_tm'].str.contains(away_text) & games['h_tm'].str.contains(home_text)\n",
    "        if any(test):\n",
    "            print('\\nSimulation Start!')\n",
    "            break\n",
    "        else:\n",
    "            print('\\nSorry! These aren\\'t valid names. Please try again!')\n",
    "\n",
    "    away_score = games.loc[test]['sim_ascore'].item()\n",
    "    home_score = games.loc[test]['sim_hscore'].item()\n",
    "    d = {away_text: away_score, home_text: home_score}\n",
    "    if away_score > home_score:\n",
    "        print('\\nWe predict the winner team to be:', games.loc[test]['a_tm'].item())\n",
    "        print('And the score detail will approximately be (Home vs. Away):\\n', home_score, ':', away_score)\n",
    "    elif away_score < home_score:\n",
    "        print('\\nWe predict the winner team to be:', games.loc[test]['h_tm'].item())\n",
    "        print('And the score detail will approximately be (Home vs. Away):\\n', home_score, ':', away_score) \n",
    "    elif away_score == home_score:\n",
    "        print('\\nWe predict the game to be even')\n",
    "        print('And the score detail will approximately be (Home vs. Away):\\n', home_score, ':', away_score) \n",
    "\n",
    "        \n",
    "read_result()"
   ]
  }
 ],
 "metadata": {
  "anaconda-cloud": {},
  "kernelspec": {
   "display_name": "Python [conda root]",
   "language": "python",
   "name": "conda-root-py"
  },
  "language_info": {
   "codemirror_mode": {
    "name": "ipython",
    "version": 3
   },
   "file_extension": ".py",
   "mimetype": "text/x-python",
   "name": "python",
   "nbconvert_exporter": "python",
   "pygments_lexer": "ipython3",
   "version": "3.5.2"
  }
 },
 "nbformat": 4,
 "nbformat_minor": 0
}
